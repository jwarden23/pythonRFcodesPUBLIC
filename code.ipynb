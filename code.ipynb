{
 "cells": [
  {
   "cell_type": "code",
   "execution_count": 1,
   "metadata": {},
   "outputs": [],
   "source": [
    "import pandas as pd\n",
    "import numpy as np\n",
    "import matplotlib.pyplot as plt\n",
    "import scipy "
   ]
  },
  {
   "cell_type": "code",
   "execution_count": 1,
   "metadata": {},
   "outputs": [
    {
     "name": "stdout",
     "output_type": "stream",
     "text": [
      "Collecting xlrd\n",
      "  Downloading xlrd-2.0.1-py2.py3-none-any.whl (96 kB)\n",
      "\u001b[2K     \u001b[90m━━━━━━━━━━━━━━━━━━━━━━━━━━━━━━━━━━━━━━━━\u001b[0m \u001b[32m96.5/96.5 kB\u001b[0m \u001b[31m8.9 MB/s\u001b[0m eta \u001b[36m0:00:00\u001b[0m\n",
      "\u001b[?25hInstalling collected packages: xlrd\n",
      "Successfully installed xlrd-2.0.1\n"
     ]
    }
   ],
   "source": [
    "!pip install xlrd\n",
    "import xlrd"
   ]
  },
  {
   "cell_type": "code",
   "execution_count": 80,
   "metadata": {},
   "outputs": [
    {
     "data": {
      "text/html": [
       "<div>\n",
       "<style scoped>\n",
       "    .dataframe tbody tr th:only-of-type {\n",
       "        vertical-align: middle;\n",
       "    }\n",
       "\n",
       "    .dataframe tbody tr th {\n",
       "        vertical-align: top;\n",
       "    }\n",
       "\n",
       "    .dataframe thead th {\n",
       "        text-align: right;\n",
       "    }\n",
       "</style>\n",
       "<table border=\"1\" class=\"dataframe\">\n",
       "  <thead>\n",
       "    <tr style=\"text-align: right;\">\n",
       "      <th></th>\n",
       "      <th>Unnamed: 0</th>\n",
       "      <th>Unnamed: 1</th>\n",
       "      <th>Unnamed: 2</th>\n",
       "      <th>Unnamed: 3</th>\n",
       "      <th>Unnamed: 4</th>\n",
       "      <th>Unnamed: 5</th>\n",
       "      <th>Unnamed: 6</th>\n",
       "      <th>Unnamed: 7</th>\n",
       "      <th>Unnamed: 8</th>\n",
       "      <th>Unnamed: 9</th>\n",
       "      <th>...</th>\n",
       "      <th>Unnamed: 19</th>\n",
       "      <th>Unnamed: 20</th>\n",
       "      <th>Unnamed: 21</th>\n",
       "      <th>Unnamed: 22</th>\n",
       "      <th>Unnamed: 23</th>\n",
       "      <th>Unnamed: 24</th>\n",
       "      <th>Unnamed: 25</th>\n",
       "      <th>Unnamed: 26</th>\n",
       "      <th>Unnamed: 27</th>\n",
       "      <th>Unnamed: 28</th>\n",
       "    </tr>\n",
       "  </thead>\n",
       "  <tbody>\n",
       "    <tr>\n",
       "      <th>0</th>\n",
       "      <td>NaN</td>\n",
       "      <td>!! Enviar a Oscar solo los de Vascular</td>\n",
       "      <td>NaN</td>\n",
       "      <td>NaN</td>\n",
       "      <td>NaN</td>\n",
       "      <td>NaN</td>\n",
       "      <td>!! Cuando no esté cerrado el examen escribir e...</td>\n",
       "      <td>NaN</td>\n",
       "      <td>NaN</td>\n",
       "      <td>NaN</td>\n",
       "      <td>...</td>\n",
       "      <td>NaN</td>\n",
       "      <td>NaN</td>\n",
       "      <td>NaN</td>\n",
       "      <td>NaN</td>\n",
       "      <td>NaN</td>\n",
       "      <td>NaN</td>\n",
       "      <td>NaN</td>\n",
       "      <td>NaN</td>\n",
       "      <td>NaN</td>\n",
       "      <td>NaN</td>\n",
       "    </tr>\n",
       "    <tr>\n",
       "      <th>1</th>\n",
       "      <td>NaN</td>\n",
       "      <td>NaN</td>\n",
       "      <td>NaN</td>\n",
       "      <td>NaN</td>\n",
       "      <td>NaN</td>\n",
       "      <td>NaN</td>\n",
       "      <td>NaN</td>\n",
       "      <td>NaN</td>\n",
       "      <td>NaN</td>\n",
       "      <td>NaN</td>\n",
       "      <td>...</td>\n",
       "      <td>NaN</td>\n",
       "      <td>NaN</td>\n",
       "      <td>NaN</td>\n",
       "      <td>NaN</td>\n",
       "      <td>NaN</td>\n",
       "      <td>NaN</td>\n",
       "      <td>NaN</td>\n",
       "      <td>NaN</td>\n",
       "      <td>NaN</td>\n",
       "      <td>NaN</td>\n",
       "    </tr>\n",
       "    <tr>\n",
       "      <th>2</th>\n",
       "      <td>NaN</td>\n",
       "      <td>NaN</td>\n",
       "      <td>NaN</td>\n",
       "      <td>Vigilancia de kerma</td>\n",
       "      <td>NaN</td>\n",
       "      <td>NaN</td>\n",
       "      <td>NaN</td>\n",
       "      <td>NaN</td>\n",
       "      <td>NaN</td>\n",
       "      <td>NaN</td>\n",
       "      <td>...</td>\n",
       "      <td>NaN</td>\n",
       "      <td>NaN</td>\n",
       "      <td>NaN</td>\n",
       "      <td>NaN</td>\n",
       "      <td>Última fecha</td>\n",
       "      <td>NaN</td>\n",
       "      <td>NaN</td>\n",
       "      <td>NaN</td>\n",
       "      <td>NaN</td>\n",
       "      <td>NaN</td>\n",
       "    </tr>\n",
       "    <tr>\n",
       "      <th>3</th>\n",
       "      <td>NaN</td>\n",
       "      <td>NaN</td>\n",
       "      <td>NaN</td>\n",
       "      <td>NaN</td>\n",
       "      <td>NaN</td>\n",
       "      <td>NaN</td>\n",
       "      <td>NaN</td>\n",
       "      <td>NaN</td>\n",
       "      <td>NaN</td>\n",
       "      <td>NaN</td>\n",
       "      <td>...</td>\n",
       "      <td>NaN</td>\n",
       "      <td>NaN</td>\n",
       "      <td>NaN</td>\n",
       "      <td>NaN</td>\n",
       "      <td>PACS</td>\n",
       "      <td>Outlook</td>\n",
       "      <td>NaN</td>\n",
       "      <td>NaN</td>\n",
       "      <td>NaN</td>\n",
       "      <td>Eritrema en piel</td>\n",
       "    </tr>\n",
       "    <tr>\n",
       "      <th>4</th>\n",
       "      <td>NaN</td>\n",
       "      <td>NaN</td>\n",
       "      <td>NaN</td>\n",
       "      <td>NaN</td>\n",
       "      <td>NaN</td>\n",
       "      <td>NaN</td>\n",
       "      <td>NaN</td>\n",
       "      <td>NaN</td>\n",
       "      <td>NaN</td>\n",
       "      <td>NaN</td>\n",
       "      <td>...</td>\n",
       "      <td>NaN</td>\n",
       "      <td>NaN</td>\n",
       "      <td>NaN</td>\n",
       "      <td>NaN</td>\n",
       "      <td>2022-07-31 00:00:00</td>\n",
       "      <td>---</td>\n",
       "      <td>NaN</td>\n",
       "      <td>NaN</td>\n",
       "      <td>NaN</td>\n",
       "      <td>NaN</td>\n",
       "    </tr>\n",
       "    <tr>\n",
       "      <th>5</th>\n",
       "      <td>NaN</td>\n",
       "      <td>NaN</td>\n",
       "      <td>NaN</td>\n",
       "      <td>NaN</td>\n",
       "      <td>NaN</td>\n",
       "      <td>NaN</td>\n",
       "      <td>NaN</td>\n",
       "      <td>NaN</td>\n",
       "      <td>NaN</td>\n",
       "      <td>NaN</td>\n",
       "      <td>...</td>\n",
       "      <td>NaN</td>\n",
       "      <td>NaN</td>\n",
       "      <td>NaN</td>\n",
       "      <td>NaN</td>\n",
       "      <td>NaN</td>\n",
       "      <td>NaN</td>\n",
       "      <td>NaN</td>\n",
       "      <td>NaN</td>\n",
       "      <td>NaN</td>\n",
       "      <td>NaN</td>\n",
       "    </tr>\n",
       "    <tr>\n",
       "      <th>6</th>\n",
       "      <td>NaN</td>\n",
       "      <td>NaN</td>\n",
       "      <td>Tipo de paciente</td>\n",
       "      <td>Apellido 1</td>\n",
       "      <td>Apellido 2</td>\n",
       "      <td>Nombre</td>\n",
       "      <td>SIP</td>\n",
       "      <td>Fecha de la dosis</td>\n",
       "      <td>Kerma en aire acumulada (Gy)</td>\n",
       "      <td>Zona corporal</td>\n",
       "      <td>...</td>\n",
       "      <td>Fecha de nacimiento</td>\n",
       "      <td>Apuntado</td>\n",
       "      <td>Examen</td>\n",
       "      <td>Nombre completo</td>\n",
       "      <td>Mes</td>\n",
       "      <td>Año</td>\n",
       "      <td>Equipo</td>\n",
       "      <td>Kerma acumulado (Gy)</td>\n",
       "      <td>NaN</td>\n",
       "      <td>NaN</td>\n",
       "    </tr>\n",
       "    <tr>\n",
       "      <th>7</th>\n",
       "      <td>NaN</td>\n",
       "      <td>NaN</td>\n",
       "      <td>Adulto</td>\n",
       "      <td>Torregrosa</td>\n",
       "      <td>Valero</td>\n",
       "      <td>M Carmen</td>\n",
       "      <td>4245699</td>\n",
       "      <td>2018-01-15 00:00:00</td>\n",
       "      <td>3.159</td>\n",
       "      <td>NaN</td>\n",
       "      <td>...</td>\n",
       "      <td>1955-09-22 00:00:00</td>\n",
       "      <td>Si</td>\n",
       "      <td>NaN</td>\n",
       "      <td>Torregrosa Valero,M Carmen</td>\n",
       "      <td>1</td>\n",
       "      <td>2018</td>\n",
       "      <td>Vascular</td>\n",
       "      <td>2.756</td>\n",
       "      <td>NaN</td>\n",
       "      <td>NaN</td>\n",
       "    </tr>\n",
       "    <tr>\n",
       "      <th>8</th>\n",
       "      <td>NaN</td>\n",
       "      <td>NaN</td>\n",
       "      <td>Adulto</td>\n",
       "      <td>Cervera</td>\n",
       "      <td>Ruiz</td>\n",
       "      <td>Antonio</td>\n",
       "      <td>2932082</td>\n",
       "      <td>2018-02-26 00:00:00</td>\n",
       "      <td>4.17</td>\n",
       "      <td>abdomen</td>\n",
       "      <td>...</td>\n",
       "      <td>1958-01-11 00:00:00</td>\n",
       "      <td>Si</td>\n",
       "      <td>Quimioembolización hepática. Procedimiento básico</td>\n",
       "      <td>Cervera Ruiz,Antonio</td>\n",
       "      <td>2</td>\n",
       "      <td>2018</td>\n",
       "      <td>Vascular</td>\n",
       "      <td>10.417</td>\n",
       "      <td>NaN</td>\n",
       "      <td>NaN</td>\n",
       "    </tr>\n",
       "    <tr>\n",
       "      <th>9</th>\n",
       "      <td>NaN</td>\n",
       "      <td>NaN</td>\n",
       "      <td>Adulto</td>\n",
       "      <td>Giner</td>\n",
       "      <td>Ortega</td>\n",
       "      <td>Francisca</td>\n",
       "      <td>2932156</td>\n",
       "      <td>2018-06-11 00:00:00</td>\n",
       "      <td>2.9</td>\n",
       "      <td>abdomen</td>\n",
       "      <td>...</td>\n",
       "      <td>1958-12-29 00:00:00</td>\n",
       "      <td>Si</td>\n",
       "      <td>Quimioembolización hepática. Procedimiento básico</td>\n",
       "      <td>Giner Ortega,Francisca</td>\n",
       "      <td>6</td>\n",
       "      <td>2018</td>\n",
       "      <td>Vascular</td>\n",
       "      <td>3.71127</td>\n",
       "      <td>NaN</td>\n",
       "      <td>NaN</td>\n",
       "    </tr>\n",
       "  </tbody>\n",
       "</table>\n",
       "<p>10 rows × 29 columns</p>\n",
       "</div>"
      ],
      "text/plain": [
       "  Unnamed: 0                              Unnamed: 1        Unnamed: 2  \\\n",
       "0        NaN  !! Enviar a Oscar solo los de Vascular               NaN   \n",
       "1        NaN                                     NaN               NaN   \n",
       "2        NaN                                     NaN               NaN   \n",
       "3        NaN                                     NaN               NaN   \n",
       "4        NaN                                     NaN               NaN   \n",
       "5        NaN                                     NaN               NaN   \n",
       "6        NaN                                     NaN  Tipo de paciente   \n",
       "7        NaN                                     NaN            Adulto   \n",
       "8        NaN                                     NaN            Adulto   \n",
       "9        NaN                                     NaN            Adulto   \n",
       "\n",
       "            Unnamed: 3  Unnamed: 4 Unnamed: 5  \\\n",
       "0                  NaN         NaN        NaN   \n",
       "1                  NaN         NaN        NaN   \n",
       "2  Vigilancia de kerma         NaN        NaN   \n",
       "3                  NaN         NaN        NaN   \n",
       "4                  NaN         NaN        NaN   \n",
       "5                  NaN         NaN        NaN   \n",
       "6           Apellido 1  Apellido 2     Nombre   \n",
       "7           Torregrosa      Valero   M Carmen   \n",
       "8              Cervera        Ruiz    Antonio   \n",
       "9                Giner      Ortega  Francisca   \n",
       "\n",
       "                                          Unnamed: 6           Unnamed: 7  \\\n",
       "0  !! Cuando no esté cerrado el examen escribir e...                  NaN   \n",
       "1                                                NaN                  NaN   \n",
       "2                                                NaN                  NaN   \n",
       "3                                                NaN                  NaN   \n",
       "4                                                NaN                  NaN   \n",
       "5                                                NaN                  NaN   \n",
       "6                                                SIP    Fecha de la dosis   \n",
       "7                                            4245699  2018-01-15 00:00:00   \n",
       "8                                            2932082  2018-02-26 00:00:00   \n",
       "9                                            2932156  2018-06-11 00:00:00   \n",
       "\n",
       "                     Unnamed: 8     Unnamed: 9  ...          Unnamed: 19  \\\n",
       "0                           NaN            NaN  ...                  NaN   \n",
       "1                           NaN            NaN  ...                  NaN   \n",
       "2                           NaN            NaN  ...                  NaN   \n",
       "3                           NaN            NaN  ...                  NaN   \n",
       "4                           NaN            NaN  ...                  NaN   \n",
       "5                           NaN            NaN  ...                  NaN   \n",
       "6  Kerma en aire acumulada (Gy)  Zona corporal  ...  Fecha de nacimiento   \n",
       "7                         3.159            NaN  ...  1955-09-22 00:00:00   \n",
       "8                          4.17        abdomen  ...  1958-01-11 00:00:00   \n",
       "9                           2.9        abdomen  ...  1958-12-29 00:00:00   \n",
       "\n",
       "  Unnamed: 20                                        Unnamed: 21  \\\n",
       "0         NaN                                                NaN   \n",
       "1         NaN                                                NaN   \n",
       "2         NaN                                                NaN   \n",
       "3         NaN                                                NaN   \n",
       "4         NaN                                                NaN   \n",
       "5         NaN                                                NaN   \n",
       "6    Apuntado                                             Examen   \n",
       "7          Si                                                NaN   \n",
       "8          Si  Quimioembolización hepática. Procedimiento básico   \n",
       "9          Si  Quimioembolización hepática. Procedimiento básico   \n",
       "\n",
       "                  Unnamed: 22          Unnamed: 23 Unnamed: 24 Unnamed: 25  \\\n",
       "0                         NaN                  NaN         NaN         NaN   \n",
       "1                         NaN                  NaN         NaN         NaN   \n",
       "2                         NaN         Última fecha         NaN         NaN   \n",
       "3                         NaN                 PACS     Outlook         NaN   \n",
       "4                         NaN  2022-07-31 00:00:00         ---         NaN   \n",
       "5                         NaN                  NaN         NaN         NaN   \n",
       "6             Nombre completo                  Mes         Año      Equipo   \n",
       "7  Torregrosa Valero,M Carmen                    1        2018    Vascular   \n",
       "8        Cervera Ruiz,Antonio                    2        2018    Vascular   \n",
       "9      Giner Ortega,Francisca                    6        2018    Vascular   \n",
       "\n",
       "            Unnamed: 26 Unnamed: 27       Unnamed: 28  \n",
       "0                   NaN         NaN               NaN  \n",
       "1                   NaN         NaN               NaN  \n",
       "2                   NaN         NaN               NaN  \n",
       "3                   NaN         NaN  Eritrema en piel  \n",
       "4                   NaN         NaN               NaN  \n",
       "5                   NaN         NaN               NaN  \n",
       "6  Kerma acumulado (Gy)         NaN               NaN  \n",
       "7                 2.756         NaN               NaN  \n",
       "8                10.417         NaN               NaN  \n",
       "9               3.71127         NaN               NaN  \n",
       "\n",
       "[10 rows x 29 columns]"
      ]
     },
     "execution_count": 80,
     "metadata": {},
     "output_type": "execute_result"
    }
   ],
   "source": [
    "datos_raw = pd.read_excel(\"vigilancia_kerma3Gy_macros.xls\", sheet_name=\"Datos\")\n",
    "datos_raw.head(10)"
   ]
  },
  {
   "cell_type": "code",
   "execution_count": 81,
   "metadata": {},
   "outputs": [
    {
     "data": {
      "text/plain": [
       "Index(['Unnamed: 0', 'Unnamed: 1', 'Unnamed: 2', 'Unnamed: 3', 'Unnamed: 4',\n",
       "       'Unnamed: 5', 'Unnamed: 6', 'Unnamed: 7', 'Unnamed: 8', 'Unnamed: 9',\n",
       "       'Unnamed: 10', 'Unnamed: 11', 'Unnamed: 12', 'Unnamed: 13',\n",
       "       'Unnamed: 14', 'Unnamed: 15', 'Unnamed: 16', 'Unnamed: 17',\n",
       "       'Unnamed: 18', 'Unnamed: 19', 'Unnamed: 20', 'Unnamed: 21',\n",
       "       'Unnamed: 22', 'Unnamed: 23', 'Unnamed: 24', 'Unnamed: 25',\n",
       "       'Unnamed: 26', 'Unnamed: 27', 'Unnamed: 28'],\n",
       "      dtype='object')"
      ]
     },
     "execution_count": 81,
     "metadata": {},
     "output_type": "execute_result"
    }
   ],
   "source": [
    "datos_raw.columns"
   ]
  },
  {
   "cell_type": "code",
   "execution_count": 82,
   "metadata": {},
   "outputs": [],
   "source": [
    "datos_raw.rename(columns={'Unnamed: 2': 'Tipo',\n",
    "                          'Unnamed: 3': 'Apellido 1',\n",
    "                          'Unnamed: 4': 'Apellido 2',\n",
    "                          'Unnamed: 5': 'Nombre',\n",
    "                          'Unnamed: 6': 'SIP',\n",
    "                          'Unnamed: 7': 'Fecha de dosis',\n",
    "                          'Unnamed: 8': 'Kerma',\n",
    "                          'Unnamed: 19': 'Fecha de nacimiento',\n",
    "                          'Unnamed: 21': 'Examen',\n",
    "                          'Unnamed: 25': 'Equipo',}, inplace=True)"
   ]
  },
  {
   "cell_type": "code",
   "execution_count": 83,
   "metadata": {},
   "outputs": [],
   "source": [
    "datos_raw.drop(columns=['Unnamed: 0','Unnamed: 1','Unnamed: 9','Unnamed: 10',\n",
    "                        'Unnamed: 11','Unnamed: 12','Unnamed: 13','Unnamed: 14',\n",
    "                        'Unnamed: 15','Unnamed: 16','Unnamed: 17','Unnamed: 18',\n",
    "                        'Unnamed: 20','Unnamed: 22','Unnamed: 23','Unnamed: 24',\n",
    "                        'Unnamed: 26','Unnamed: 27','Unnamed: 28'], inplace=True)"
   ]
  },
  {
   "cell_type": "code",
   "execution_count": 84,
   "metadata": {},
   "outputs": [],
   "source": [
    "datos_raw.drop([0,1,2,3,4,5,6],inplace=True)"
   ]
  },
  {
   "cell_type": "code",
   "execution_count": 182,
   "metadata": {},
   "outputs": [],
   "source": [
    "df = datos_raw"
   ]
  },
  {
   "cell_type": "code",
   "execution_count": 183,
   "metadata": {},
   "outputs": [
    {
     "data": {
      "text/plain": [
       "1175    0.07443\n",
       "1176     0.1356\n",
       "1177    0.07326\n",
       "1178    0.08627\n",
       "1191    0.84342\n",
       "         ...   \n",
       "2429    0.49329\n",
       "2431    1.34588\n",
       "2432    0.53512\n",
       "2433    0.78556\n",
       "2434    0.29466\n",
       "Name: Kerma, Length: 378, dtype: object"
      ]
     },
     "execution_count": 183,
     "metadata": {},
     "output_type": "execute_result"
    }
   ],
   "source": [
    "df[df['Examen']=='Cateterismo cardiaco']['Kerma']"
   ]
  },
  {
   "cell_type": "code",
   "execution_count": 184,
   "metadata": {},
   "outputs": [
    {
     "data": {
      "text/plain": [
       "No tiene    9\n",
       "0.4         3\n",
       "0.00193     3\n",
       "0.287       3\n",
       "0.03        3\n",
       "           ..\n",
       "0.262       1\n",
       "0.11385     1\n",
       "0.78572     1\n",
       "1.472       1\n",
       "0.5         1\n",
       "Name: Kerma, Length: 2267, dtype: int64"
      ]
     },
     "execution_count": 184,
     "metadata": {},
     "output_type": "execute_result"
    }
   ],
   "source": [
    "df['Kerma'].value_counts()"
   ]
  },
  {
   "cell_type": "code",
   "execution_count": 185,
   "metadata": {},
   "outputs": [],
   "source": [
    "df = df.drop(df[df['Kerma']=='No tiene'].index)"
   ]
  },
  {
   "cell_type": "code",
   "execution_count": 186,
   "metadata": {},
   "outputs": [],
   "source": [
    "df = df.drop(df[df['Kerma']=='Falta mirarlo. No acceso'].index)\n",
    "df = df.drop(df[df['Kerma']=='Sin datos'].index)\n",
    "df = df.drop(df[df['Kerma']=='No hay'].index)\n",
    "df = df.drop(df[df['Kerma']=='Imposible'].index)\n",
    "df = df.drop(df[df['Kerma']=='Imposible'].index)\n",
    "df = df.drop(df[df['Kerma']=='NO'].index)\n",
    "df = df.drop(df[df['Kerma']=='XA_02'].index)\n",
    "df = df.drop(df[df['Kerma']=='XA_04'].index)\n",
    "df = df.drop(df[df['Kerma']=='XA_05'].index)\n",
    "df = df.drop(df[df['Kerma']=='XA_07'].index)"
   ]
  },
  {
   "cell_type": "code",
   "execution_count": 187,
   "metadata": {},
   "outputs": [
    {
     "data": {
      "text/html": [
       "<div>\n",
       "<style scoped>\n",
       "    .dataframe tbody tr th:only-of-type {\n",
       "        vertical-align: middle;\n",
       "    }\n",
       "\n",
       "    .dataframe tbody tr th {\n",
       "        vertical-align: top;\n",
       "    }\n",
       "\n",
       "    .dataframe thead th {\n",
       "        text-align: right;\n",
       "    }\n",
       "</style>\n",
       "<table border=\"1\" class=\"dataframe\">\n",
       "  <thead>\n",
       "    <tr style=\"text-align: right;\">\n",
       "      <th></th>\n",
       "      <th>Tipo</th>\n",
       "      <th>Apellido 1</th>\n",
       "      <th>Apellido 2</th>\n",
       "      <th>Nombre</th>\n",
       "      <th>SIP</th>\n",
       "      <th>Fecha de dosis</th>\n",
       "      <th>Kerma</th>\n",
       "      <th>Fecha de nacimiento</th>\n",
       "      <th>Examen</th>\n",
       "      <th>Equipo</th>\n",
       "    </tr>\n",
       "  </thead>\n",
       "  <tbody>\n",
       "    <tr>\n",
       "      <th>1877</th>\n",
       "      <td>Adulto</td>\n",
       "      <td>Fernandez</td>\n",
       "      <td>Lozano</td>\n",
       "      <td>Angeles</td>\n",
       "      <td>2147684</td>\n",
       "      <td>2022-06-07 00:00:00</td>\n",
       "      <td>07:15:59.328000</td>\n",
       "      <td>1966-05-26 00:00:00</td>\n",
       "      <td>Cateterismo cardiaco</td>\n",
       "      <td>Hemodinámica</td>\n",
       "    </tr>\n",
       "  </tbody>\n",
       "</table>\n",
       "</div>"
      ],
      "text/plain": [
       "        Tipo Apellido 1 Apellido 2   Nombre      SIP       Fecha de dosis  \\\n",
       "1877  Adulto  Fernandez     Lozano  Angeles  2147684  2022-06-07 00:00:00   \n",
       "\n",
       "                Kerma  Fecha de nacimiento                Examen        Equipo  \n",
       "1877  07:15:59.328000  1966-05-26 00:00:00  Cateterismo cardiaco  Hemodinámica  "
      ]
     },
     "execution_count": 187,
     "metadata": {},
     "output_type": "execute_result"
    }
   ],
   "source": [
    "df.loc[[1877]]"
   ]
  },
  {
   "cell_type": "code",
   "execution_count": 188,
   "metadata": {},
   "outputs": [],
   "source": [
    "df.drop(df.iloc[1857].name,inplace=True)"
   ]
  },
  {
   "cell_type": "code",
   "execution_count": 189,
   "metadata": {},
   "outputs": [],
   "source": [
    "df['Kerma'] = df['Kerma'].astype(float)"
   ]
  },
  {
   "cell_type": "code",
   "execution_count": 190,
   "metadata": {},
   "outputs": [
    {
     "data": {
      "text/html": [
       "<div>\n",
       "<style scoped>\n",
       "    .dataframe tbody tr th:only-of-type {\n",
       "        vertical-align: middle;\n",
       "    }\n",
       "\n",
       "    .dataframe tbody tr th {\n",
       "        vertical-align: top;\n",
       "    }\n",
       "\n",
       "    .dataframe thead th {\n",
       "        text-align: right;\n",
       "    }\n",
       "</style>\n",
       "<table border=\"1\" class=\"dataframe\">\n",
       "  <thead>\n",
       "    <tr style=\"text-align: right;\">\n",
       "      <th></th>\n",
       "      <th>Tipo</th>\n",
       "      <th>Apellido 1</th>\n",
       "      <th>Apellido 2</th>\n",
       "      <th>Nombre</th>\n",
       "      <th>SIP</th>\n",
       "      <th>Fecha de dosis</th>\n",
       "      <th>Kerma</th>\n",
       "      <th>Fecha de nacimiento</th>\n",
       "      <th>Examen</th>\n",
       "      <th>Equipo</th>\n",
       "    </tr>\n",
       "  </thead>\n",
       "  <tbody>\n",
       "    <tr>\n",
       "      <th>917</th>\n",
       "      <td>Adulto</td>\n",
       "      <td>Martinez</td>\n",
       "      <td>Garcia</td>\n",
       "      <td>Carmen</td>\n",
       "      <td>2876248</td>\n",
       "      <td>2022-01-22 00:00:00</td>\n",
       "      <td>309957.0</td>\n",
       "      <td>1957-02-24 00:00:00</td>\n",
       "      <td>Otras arteriografias</td>\n",
       "      <td>Vascular</td>\n",
       "    </tr>\n",
       "  </tbody>\n",
       "</table>\n",
       "</div>"
      ],
      "text/plain": [
       "       Tipo Apellido 1 Apellido 2  Nombre      SIP       Fecha de dosis  \\\n",
       "917  Adulto   Martinez     Garcia  Carmen  2876248  2022-01-22 00:00:00   \n",
       "\n",
       "        Kerma  Fecha de nacimiento                Examen    Equipo  \n",
       "917  309957.0  1957-02-24 00:00:00  Otras arteriografias  Vascular  "
      ]
     },
     "execution_count": 190,
     "metadata": {},
     "output_type": "execute_result"
    }
   ],
   "source": [
    "df[df['Kerma'] == df['Kerma'].max()]"
   ]
  },
  {
   "cell_type": "code",
   "execution_count": 191,
   "metadata": {},
   "outputs": [],
   "source": [
    "df.drop(df.loc[917].name,inplace=True)"
   ]
  },
  {
   "cell_type": "code",
   "execution_count": 192,
   "metadata": {},
   "outputs": [
    {
     "data": {
      "text/html": [
       "<div>\n",
       "<style scoped>\n",
       "    .dataframe tbody tr th:only-of-type {\n",
       "        vertical-align: middle;\n",
       "    }\n",
       "\n",
       "    .dataframe tbody tr th {\n",
       "        vertical-align: top;\n",
       "    }\n",
       "\n",
       "    .dataframe thead th {\n",
       "        text-align: right;\n",
       "    }\n",
       "</style>\n",
       "<table border=\"1\" class=\"dataframe\">\n",
       "  <thead>\n",
       "    <tr style=\"text-align: right;\">\n",
       "      <th></th>\n",
       "      <th>Tipo</th>\n",
       "      <th>Apellido 1</th>\n",
       "      <th>Apellido 2</th>\n",
       "      <th>Nombre</th>\n",
       "      <th>SIP</th>\n",
       "      <th>Fecha de dosis</th>\n",
       "      <th>Kerma</th>\n",
       "      <th>Fecha de nacimiento</th>\n",
       "      <th>Examen</th>\n",
       "      <th>Equipo</th>\n",
       "    </tr>\n",
       "  </thead>\n",
       "  <tbody>\n",
       "    <tr>\n",
       "      <th>1967</th>\n",
       "      <td>Pediátrico</td>\n",
       "      <td>Aguayo</td>\n",
       "      <td>Guiterrez</td>\n",
       "      <td>Josue</td>\n",
       "      <td>6671279</td>\n",
       "      <td>2022-06-15 00:00:00</td>\n",
       "      <td>139.48</td>\n",
       "      <td>2005-03-08 00:00:00</td>\n",
       "      <td>Cateterismo cardiaco</td>\n",
       "      <td>Hemodinámica</td>\n",
       "    </tr>\n",
       "  </tbody>\n",
       "</table>\n",
       "</div>"
      ],
      "text/plain": [
       "            Tipo Apellido 1 Apellido 2 Nombre      SIP       Fecha de dosis  \\\n",
       "1967  Pediátrico     Aguayo  Guiterrez  Josue  6671279  2022-06-15 00:00:00   \n",
       "\n",
       "       Kerma  Fecha de nacimiento                Examen        Equipo  \n",
       "1967  139.48  2005-03-08 00:00:00  Cateterismo cardiaco  Hemodinámica  "
      ]
     },
     "execution_count": 192,
     "metadata": {},
     "output_type": "execute_result"
    }
   ],
   "source": [
    "df[df['Kerma'] == df['Kerma'].max()]"
   ]
  },
  {
   "cell_type": "code",
   "execution_count": 193,
   "metadata": {},
   "outputs": [],
   "source": [
    "df.loc[1967,'Kerma'] = 0.13948"
   ]
  },
  {
   "cell_type": "code",
   "execution_count": 194,
   "metadata": {},
   "outputs": [],
   "source": [
    "df.loc[353,'Kerma'] = 0.04871"
   ]
  },
  {
   "cell_type": "code",
   "execution_count": 195,
   "metadata": {},
   "outputs": [],
   "source": [
    "df.loc[361,'Kerma'] = 0.02346"
   ]
  },
  {
   "cell_type": "code",
   "execution_count": 196,
   "metadata": {},
   "outputs": [],
   "source": [
    "df.drop(df.loc[12].name,inplace=True)"
   ]
  },
  {
   "cell_type": "code",
   "execution_count": 197,
   "metadata": {},
   "outputs": [
    {
     "data": {
      "text/html": [
       "<div>\n",
       "<style scoped>\n",
       "    .dataframe tbody tr th:only-of-type {\n",
       "        vertical-align: middle;\n",
       "    }\n",
       "\n",
       "    .dataframe tbody tr th {\n",
       "        vertical-align: top;\n",
       "    }\n",
       "\n",
       "    .dataframe thead th {\n",
       "        text-align: right;\n",
       "    }\n",
       "</style>\n",
       "<table border=\"1\" class=\"dataframe\">\n",
       "  <thead>\n",
       "    <tr style=\"text-align: right;\">\n",
       "      <th></th>\n",
       "      <th>Tipo</th>\n",
       "      <th>Apellido 1</th>\n",
       "      <th>Apellido 2</th>\n",
       "      <th>Nombre</th>\n",
       "      <th>SIP</th>\n",
       "      <th>Fecha de dosis</th>\n",
       "      <th>Kerma</th>\n",
       "      <th>Fecha de nacimiento</th>\n",
       "      <th>Examen</th>\n",
       "      <th>Equipo</th>\n",
       "    </tr>\n",
       "  </thead>\n",
       "  <tbody>\n",
       "    <tr>\n",
       "      <th>45</th>\n",
       "      <td>Adulto</td>\n",
       "      <td>Nadal</td>\n",
       "      <td>Torralbo</td>\n",
       "      <td>David</td>\n",
       "      <td>4664774</td>\n",
       "      <td>2020-07-16 00:00:00</td>\n",
       "      <td>7.469</td>\n",
       "      <td>1970-07-14 00:00:00</td>\n",
       "      <td>Arteriografía troncos viscerales digestivos</td>\n",
       "      <td>Vascular</td>\n",
       "    </tr>\n",
       "  </tbody>\n",
       "</table>\n",
       "</div>"
      ],
      "text/plain": [
       "      Tipo Apellido 1 Apellido 2 Nombre      SIP       Fecha de dosis  Kerma  \\\n",
       "45  Adulto      Nadal   Torralbo  David  4664774  2020-07-16 00:00:00  7.469   \n",
       "\n",
       "    Fecha de nacimiento                                       Examen    Equipo  \n",
       "45  1970-07-14 00:00:00  Arteriografía troncos viscerales digestivos  Vascular  "
      ]
     },
     "execution_count": 197,
     "metadata": {},
     "output_type": "execute_result"
    }
   ],
   "source": [
    "df[df['Kerma'] == df['Kerma'].max()]"
   ]
  },
  {
   "cell_type": "code",
   "execution_count": 215,
   "metadata": {},
   "outputs": [
    {
     "data": {
      "text/plain": [
       "Text(0,0.5,'Frecuencia')"
      ]
     },
     "execution_count": 215,
     "metadata": {},
     "output_type": "execute_result"
    },
    {
     "data": {
      "image/png": "[encoded data removed]",
      "text/plain": [
       "<Figure size 864x432 with 1 Axes>"
      ]
     },
     "metadata": {
      "needs_background": "light"
     },
     "output_type": "display_data"
    }
   ],
   "source": [
    "plt.figure(figsize=(12, 6))\n",
    "plt.subplot(111)\n",
    "plt.hist(df['Kerma'],color='purple', alpha=0.5, range=(0,5),bins=20)\n",
    "plt.title('Todos los examenes',fontsize=25)\n",
    "plt.xlabel('Kerma en aire (Gy)', fontsize=15)\n",
    "plt.ylabel('Frecuencia', fontsize=15)"
   ]
  },
  {
   "cell_type": "code",
   "execution_count": 201,
   "metadata": {},
   "outputs": [],
   "source": [
    "df_cateterismo = df[df['Examen']=='Cateterismo cardiaco']"
   ]
  },
  {
   "cell_type": "code",
   "execution_count": 238,
   "metadata": {},
   "outputs": [
    {
     "data": {
      "text/plain": [
       "Text(0,0.5,'Frecuencia')"
      ]
     },
     "execution_count": 238,
     "metadata": {},
     "output_type": "execute_result"
    },
    {
     "data": {
      "image/png": "[encoded data removed]",
      "text/plain": [
       "<Figure size 864x432 with 1 Axes>"
      ]
     },
     "metadata": {
      "needs_background": "light"
     },
     "output_type": "display_data"
    }
   ],
   "source": [
    "tercer_cuartil = df_cateterismo['Kerma'].quantile(0.75)\n",
    "\n",
    "plt.figure(figsize=(12, 6))\n",
    "plt.subplot(111)\n",
    "plt.hist(df_cateterismo['Kerma'],color='purple', alpha=0.5, range=(0,5),bins=20)\n",
    "\n",
    "plt.axvline(x=tercer_cuartil)\n",
    "plt.annotate(tercer_cuartil, xy=(tercer_cuartil, 125),fontsize=15) \n",
    "\n",
    "plt.axvline(x=tercer_cuartil*2,color='green')\n",
    "plt.annotate(tercer_cuartil*2, xy=(tercer_cuartil*2, 150),fontsize=15) \n",
    "\n",
    "plt.title('Cateterismo cardiaco',fontsize=25)\n",
    "plt.xlabel('Kerma en aire (Gy)', fontsize=15)\n",
    "plt.ylabel('Frecuencia', fontsize=15)"
   ]
  },
  {
   "cell_type": "code",
   "execution_count": 247,
   "metadata": {},
   "outputs": [
    {
     "data": {
      "text/plain": [
       "7.506702412868632"
      ]
     },
     "execution_count": 247,
     "metadata": {},
     "output_type": "execute_result"
    }
   ],
   "source": [
    "len(df_cateterismo[df_cateterismo['Kerma']>tercer_cuartil*2])/len(df_cateterismo)*100"
   ]
  },
  {
   "cell_type": "code",
   "execution_count": null,
   "metadata": {},
   "outputs": [],
   "source": []
  }
 ],
 "metadata": {
  "kernelspec": {
   "display_name": "Python 3 (ipykernel)",
   "language": "python",
   "name": "python3"
  },
  "language_info": {
   "codemirror_mode": {
    "name": "ipython",
    "version": 3
   },
   "file_extension": ".py",
   "mimetype": "text/x-python",
   "name": "python",
   "nbconvert_exporter": "python",
   "pygments_lexer": "ipython3",
   "version": "3.7.12"
  }
 },
 "nbformat": 4,
 "nbformat_minor": 4
}
